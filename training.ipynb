{
 "cells": [
  {
   "cell_type": "code",
   "execution_count": 125,
   "metadata": {},
   "outputs": [],
   "source": [
    "import torch as tc \n",
    "import matplotlib.pyplot as plt \n",
    "import pandas as pd \n",
    "from sklearn.model_selection import train_test_split \n",
    "from torch.utils.data import DataLoader,TensorDataset\n",
    "from torch import nn,optim \n",
    "from torchmetrics import Accuracy\n",
    "from sklearn.ensemble import RandomForestClassifier,AdaBoostClassifier"
   ]
  },
  {
   "cell_type": "code",
   "execution_count": 126,
   "metadata": {},
   "outputs": [],
   "source": [
    "cycling=pd.read_csv(\"/home/ahmadreza/git/rep4/Cycling.csv\").drop('YYYY-MO-DD HH-MI-SS_SSS',axis=1)\n",
    "football=pd.read_csv('/home/ahmadreza/git/rep4/Football.csv').drop('YYYY-MO-DD HH-MI-SS_SSS',axis=1)\n",
    "jogging=pd.read_csv('/home/ahmadreza/git/rep4/Jogging.csv').drop('YYYY-MO-DD HH-MI-SS_SSS',axis=1)\n",
    "jump_rope=pd.read_csv('/home/ahmadreza/git/rep4/JumpRope.csv').drop('YYYY-MO-DD HH-MI-SS_SSS',axis=1)\n",
    "push_ups=pd.read_csv('/home/ahmadreza/git/rep4/Pushups.csv').drop('YYYY-MO-DD HH-MI-SS_SSS',axis=1)\n",
    "sitting=pd.read_csv('/home/ahmadreza/git/rep4/Sitting.csv').drop('YYYY-MO-DD HH-MI-SS_SSS',axis=1)\n",
    "swimming=pd.read_csv('/home/ahmadreza/git/rep4/Swimming.csv').drop('YYYY-MO-DD HH-MI-SS_SSS',axis=1)\n",
    "tennis=pd.read_csv('/home/ahmadreza/git/rep4/Tennis.csv').drop('YYYY-MO-DD HH-MI-SS_SSS',axis=1)\n",
    "walking=pd.read_csv('/home/ahmadreza/git/rep4/Walking.csv').drop('YYYY-MO-DD HH-MI-SS_SSS',axis=1)\n",
    "walking_down_stairs=pd.read_csv('/home/ahmadreza/git/rep4/WalkingDownstairs.csv').drop('YYYY-MO-DD HH-MI-SS_SSS',axis=1)\n",
    "walking_up_stairs=pd.read_csv('/home/ahmadreza/git/rep4/WalkingUpstairs.csv').drop('YYYY-MO-DD HH-MI-SS_SSS',axis=1)\n",
    "\n",
    "cycling['target']=[0]*cycling.shape[0]\n",
    "football['target']=[1]*football.shape[0]\n",
    "jogging['target']=[2]*jogging.shape[0]\n",
    "jump_rope['target']=[3]*jump_rope.shape[0]\n",
    "push_ups['target']=[4]*push_ups.shape[0]\n",
    "sitting['target']=[5]*sitting.shape[0]\n",
    "swimming['target']=[6]*swimming.shape[0]\n",
    "tennis['target']=[7]*tennis.shape[0]\n",
    "walking['target']=[8]*walking.shape[0]\n",
    "walking_down_stairs['target']=[9]*walking_down_stairs.shape[0]\n",
    "walking_up_stairs['target']=[10]*walking_up_stairs.shape[0]\n",
    "\n",
    "tennis.columns=football.columns"
   ]
  },
  {
   "cell_type": "code",
   "execution_count": 127,
   "metadata": {},
   "outputs": [],
   "source": [
    "data=pd.concat([cycling,football,jogging,jump_rope,push_ups,sitting,swimming,tennis,walking,walking_down_stairs,walking_up_stairs])"
   ]
  },
  {
   "cell_type": "code",
   "execution_count": 128,
   "metadata": {},
   "outputs": [],
   "source": [
    "x=data.drop('target',axis=1)\n",
    "y=data.target"
   ]
  },
  {
   "cell_type": "code",
   "execution_count": 129,
   "metadata": {},
   "outputs": [],
   "source": [
    "xtrain,xtest,ytrain,ytest=train_test_split(x,y,test_size=0.1,random_state=42)\n",
    "xtrain,xvalid,ytrain,yvalid=train_test_split(xtrain,ytrain,train_size=7/9)"
   ]
  },
  {
   "cell_type": "code",
   "execution_count": 130,
   "metadata": {},
   "outputs": [],
   "source": [
    "xtrain=tc.FloatTensor(xtrain.values)\n",
    "ytrain=tc.LongTensor(ytrain.values)\n",
    "\n",
    "xvalid=tc.FloatTensor(xvalid.values)\n",
    "yvalid=tc.LongTensor(yvalid.values)\n",
    "\n",
    "xtest=tc.FloatTensor(xtest.values)\n",
    "ytest=tc.LongTensor(ytest.values)"
   ]
  },
  {
   "cell_type": "code",
   "execution_count": 131,
   "metadata": {},
   "outputs": [],
   "source": [
    "mean=xtrain.mean(dim=0)\n",
    "std=xtrain.std(dim=0)"
   ]
  },
  {
   "cell_type": "code",
   "execution_count": 132,
   "metadata": {},
   "outputs": [],
   "source": [
    "xtrain=(xtrain-mean)/std\n",
    "xvalid=(xvalid-mean)/std\n",
    "xtest=(xtest-mean)/std"
   ]
  },
  {
   "cell_type": "code",
   "execution_count": 133,
   "metadata": {},
   "outputs": [],
   "source": [
    "train_dataset=TensorDataset(xtrain,ytrain)\n",
    "valid_dataset=TensorDataset(xvalid,yvalid)"
   ]
  },
  {
   "cell_type": "code",
   "execution_count": 134,
   "metadata": {},
   "outputs": [],
   "source": [
    "train_loader=DataLoader(train_dataset,batch_size=256,shuffle=True)\n",
    "valid_loader=DataLoader(valid_dataset,batch_size=512,shuffle=False)"
   ]
  },
  {
   "cell_type": "code",
   "execution_count": 135,
   "metadata": {},
   "outputs": [],
   "source": [
    "device='cuda' if tc.cuda.is_available() else 'cpu'"
   ]
  },
  {
   "cell_type": "code",
   "execution_count": 136,
   "metadata": {},
   "outputs": [],
   "source": [
    "model=nn.Sequential(nn.Linear(xtrain.shape[1],64),nn.ReLU(),nn.Linear(64,32),nn.ReLU(),nn.Linear(32,16),nn.ReLU(),nn.Linear(16,11)).to(device)"
   ]
  },
  {
   "cell_type": "code",
   "execution_count": 137,
   "metadata": {},
   "outputs": [],
   "source": [
    "loss_func=nn.CrossEntropyLoss()"
   ]
  },
  {
   "cell_type": "code",
   "execution_count": 138,
   "metadata": {},
   "outputs": [],
   "source": [
    "def optimize(type=str):\n",
    "  if type=='adam':\n",
    "    optimizer=optim.Adam(model.parameters(),lr=0.001,betas=[0.9,0.99],eps=10.e-9)\n",
    "  elif type=='sgd':\n",
    "    optimizer=optim.SGD(model.parameters(),lr=0.01)\n",
    "  elif type=='sgd-m':\n",
    "    optimizer=optim.SGD(model.parameters(),lr=0.001,momentum=0.9,nesterov=False)\n",
    "  elif type=='sgd-nest':\n",
    "    optimizer=optim.SGD(model.parameters(),lr=0.001,momentum=0.9,nesterov=True)\n",
    "  elif type=='rms':\n",
    "    optimizer=optim.RMSprop(model.parameters(),lr=0.0001,alpha=0.99,eps=10.e-9)\n",
    "  return optimizer"
   ]
  },
  {
   "cell_type": "code",
   "execution_count": 139,
   "metadata": {},
   "outputs": [],
   "source": [
    "optimizer_name='adam'\n",
    "optimizer=optimize(optimizer_name)"
   ]
  },
  {
   "cell_type": "code",
   "execution_count": 140,
   "metadata": {},
   "outputs": [
    {
     "name": "stdout",
     "output_type": "stream",
     "text": [
      "Epoch=5\n",
      "train loss=0.5691,accuracy=0.7983\n",
      "valid loss=0.5665,accuracy=0.8002\n",
      "\n",
      "Epoch=10\n",
      "train loss=0.4726,accuracy=0.8333\n",
      "valid loss=0.4849,accuracy=0.8293\n",
      "\n",
      "Epoch=15\n",
      "train loss=0.4283,accuracy=0.8483\n",
      "valid loss=0.4417,accuracy=0.8417\n",
      "\n",
      "Epoch=20\n",
      "train loss=0.3961,accuracy=0.8581\n",
      "valid loss=0.4185,accuracy=0.8504\n",
      "\n",
      "Epoch=25\n",
      "train loss=0.3765,accuracy=0.8649\n",
      "valid loss=0.3976,accuracy=0.8625\n",
      "\n",
      "Epoch=30\n",
      "train loss=0.3581,accuracy=0.8719\n",
      "valid loss=0.3844,accuracy=0.8653\n",
      "\n",
      "Epoch=35\n",
      "train loss=0.3452,accuracy=0.8764\n",
      "valid loss=0.3731,accuracy=0.8697\n",
      "\n",
      "Epoch=40\n",
      "train loss=0.3324,accuracy=0.8817\n",
      "valid loss=0.3703,accuracy=0.8704\n",
      "\n",
      "Epoch=45\n",
      "train loss=0.3249,accuracy=0.8827\n",
      "valid loss=0.3598,accuracy=0.8752\n",
      "\n",
      "Epoch=50\n",
      "train loss=0.3185,accuracy=0.8862\n",
      "valid loss=0.3577,accuracy=0.8749\n",
      "\n",
      "Epoch=55\n",
      "train loss=0.3083,accuracy=0.8882\n",
      "valid loss=0.3503,accuracy=0.876\n",
      "\n",
      "Epoch=60\n",
      "train loss=0.3011,accuracy=0.8908\n",
      "valid loss=0.3513,accuracy=0.8774\n",
      "\n",
      "Epoch=65\n",
      "train loss=0.2963,accuracy=0.8931\n",
      "valid loss=0.3491,accuracy=0.8784\n",
      "\n",
      "Epoch=70\n",
      "train loss=0.2898,accuracy=0.8945\n",
      "valid loss=0.3427,accuracy=0.8807\n",
      "\n",
      "Epoch=75\n",
      "train loss=0.2841,accuracy=0.8961\n",
      "valid loss=0.3387,accuracy=0.8841\n",
      "\n",
      "Epoch=80\n",
      "train loss=0.2803,accuracy=0.8987\n",
      "valid loss=0.3362,accuracy=0.8851\n",
      "\n",
      "Epoch=85\n",
      "train loss=0.276,accuracy=0.9\n",
      "valid loss=0.3352,accuracy=0.8863\n",
      "\n",
      "Epoch=90\n",
      "train loss=0.2715,accuracy=0.9028\n",
      "valid loss=0.3445,accuracy=0.8839\n",
      "\n",
      "Epoch=95\n",
      "train loss=0.2691,accuracy=0.9032\n",
      "valid loss=0.34,accuracy=0.8833\n",
      "\n",
      "Epoch=100\n",
      "train loss=0.2622,accuracy=0.9048\n",
      "valid loss=0.3364,accuracy=0.8853\n",
      "\n",
      "Epoch=105\n",
      "train loss=0.2627,accuracy=0.9045\n",
      "valid loss=0.3341,accuracy=0.888\n",
      "\n",
      "Epoch=110\n",
      "train loss=0.2594,accuracy=0.9053\n",
      "valid loss=0.3346,accuracy=0.8873\n",
      "\n",
      "Epoch=115\n",
      "train loss=0.2549,accuracy=0.907\n",
      "valid loss=0.3409,accuracy=0.8872\n",
      "\n",
      "Epoch=120\n",
      "train loss=0.2524,accuracy=0.9086\n",
      "valid loss=0.3348,accuracy=0.8855\n",
      "\n",
      "Epoch=125\n",
      "train loss=0.2505,accuracy=0.9088\n",
      "valid loss=0.335,accuracy=0.8876\n",
      "\n",
      "Epoch=130\n",
      "train loss=0.2526,accuracy=0.9099\n",
      "valid loss=0.3373,accuracy=0.8877\n",
      "\n",
      "Epoch=135\n",
      "train loss=0.2475,accuracy=0.9109\n",
      "valid loss=0.3315,accuracy=0.8877\n",
      "\n",
      "Epoch=140\n",
      "train loss=0.244,accuracy=0.9105\n",
      "valid loss=0.3371,accuracy=0.8861\n",
      "\n",
      "Epoch=145\n",
      "train loss=0.2424,accuracy=0.9122\n",
      "valid loss=0.3375,accuracy=0.8888\n",
      "\n",
      "Epoch=150\n",
      "train loss=0.2418,accuracy=0.9125\n",
      "valid loss=0.3355,accuracy=0.8856\n",
      "\n",
      "Epoch=155\n",
      "train loss=0.2401,accuracy=0.9129\n",
      "valid loss=0.3362,accuracy=0.8881\n",
      "\n",
      "Epoch=160\n",
      "train loss=0.2387,accuracy=0.9141\n",
      "valid loss=0.3353,accuracy=0.8904\n",
      "\n",
      "Epoch=165\n",
      "train loss=0.2382,accuracy=0.9132\n",
      "valid loss=0.3338,accuracy=0.8886\n",
      "\n",
      "Epoch=170\n",
      "train loss=0.2354,accuracy=0.915\n",
      "valid loss=0.3332,accuracy=0.8908\n",
      "\n",
      "Epoch=175\n",
      "train loss=0.2331,accuracy=0.9167\n",
      "valid loss=0.3347,accuracy=0.8894\n",
      "\n",
      "Epoch=180\n",
      "train loss=0.2314,accuracy=0.9159\n",
      "valid loss=0.3405,accuracy=0.888\n",
      "\n",
      "Epoch=185\n",
      "train loss=0.2308,accuracy=0.9155\n",
      "valid loss=0.3386,accuracy=0.8879\n",
      "\n",
      "Epoch=190\n",
      "train loss=0.2294,accuracy=0.9167\n",
      "valid loss=0.3461,accuracy=0.8865\n",
      "\n",
      "Epoch=195\n",
      "train loss=0.2284,accuracy=0.9176\n",
      "valid loss=0.338,accuracy=0.8885\n",
      "\n",
      "Epoch=200\n",
      "train loss=0.2268,accuracy=0.9178\n",
      "valid loss=0.3416,accuracy=0.8893\n",
      "\n"
     ]
    }
   ],
   "source": [
    "N=200\n",
    "\n",
    "acc_train_hist,acc_valid_hist=[],[]\n",
    "loss_train_hist,loss_valid_hist=[],[]\n",
    "\n",
    "for i in range(N):\n",
    "\n",
    "    train_loss,valid_loss=0,0\n",
    "\n",
    "    acc_train=Accuracy(task='multiclass',num_classes=11).to(device)\n",
    "    acc_valid=Accuracy(task='multiclass',num_classes=11).to(device)\n",
    "\n",
    "    for j,(x,y) in enumerate(train_loader):\n",
    "        x=x.to(device)\n",
    "        y=y.to(device)\n",
    "        yp=model(x)\n",
    "        loss=loss_func(yp.squeeze(),y)\n",
    "        train_loss+=loss.detach()\n",
    "        loss.backward()\n",
    "        optimizer.step()\n",
    "        optimizer.zero_grad()\n",
    "        acc_train(yp,y)\n",
    "\n",
    "    train_loss=train_loss/(j+1)\n",
    "\n",
    "    for j,(x,y) in enumerate(valid_loader):\n",
    "        x=x.to(device)\n",
    "        y=y.to(device)\n",
    "        yp=model(x)\n",
    "        loss=loss_func(yp.squeeze(),y)\n",
    "        valid_loss+=loss.detach()\n",
    "        acc_valid(yp,y)\n",
    "\n",
    "    valid_loss=valid_loss/(j+1)\n",
    "\n",
    "    acc_train_hist.append(acc_train.compute().cpu())\n",
    "    acc_valid_hist.append(acc_valid.compute().cpu())\n",
    "    loss_train_hist.append(train_loss.cpu())\n",
    "    loss_valid_hist.append(valid_loss.cpu())\n",
    "\n",
    "    if (i+1)%5==0:\n",
    "        print(f'Epoch={i+1}')\n",
    "        print(f'train loss={train_loss:.4},accuracy={acc_train.compute():.4}')\n",
    "        print(f'valid loss={valid_loss:.4},accuracy={acc_valid.compute():.4}')\n",
    "        print()"
   ]
  },
  {
   "cell_type": "code",
   "execution_count": 141,
   "metadata": {},
   "outputs": [
    {
     "data": {
      "image/png": "[encoded data removed]",
      "text/plain": [
       "<Figure size 576x576 with 1 Axes>"
      ]
     },
     "metadata": {
      "needs_background": "light"
     },
     "output_type": "display_data"
    }
   ],
   "source": [
    "plt.figure(figsize=(8,8))\n",
    "plt.plot(range(N),loss_train_hist,label='train loss')\n",
    "plt.plot(range(N),loss_valid_hist,label='valid loss')\n",
    "plt.legend()\n",
    "plt.xlabel('Epoch')\n",
    "plt.ylabel('Loss')\n",
    "plt.grid()\n",
    "plt.show()"
   ]
  },
  {
   "cell_type": "code",
   "execution_count": 142,
   "metadata": {},
   "outputs": [
    {
     "data": {
      "image/png": "[encoded data removed]",
      "text/plain": [
       "<Figure size 576x576 with 1 Axes>"
      ]
     },
     "metadata": {
      "needs_background": "light"
     },
     "output_type": "display_data"
    }
   ],
   "source": [
    "plt.figure(figsize=(8,8))\n",
    "plt.plot(range(N),acc_train_hist,label='train loss')\n",
    "plt.plot(range(N),acc_valid_hist,label='valid loss')\n",
    "plt.legend()\n",
    "plt.xlabel('Epoch')\n",
    "plt.ylabel('Accuracy')\n",
    "plt.grid()\n",
    "plt.show()"
   ]
  },
  {
   "cell_type": "code",
   "execution_count": 143,
   "metadata": {},
   "outputs": [],
   "source": [
    "ypred=model(xtest.cuda())"
   ]
  },
  {
   "cell_type": "code",
   "execution_count": 144,
   "metadata": {},
   "outputs": [
    {
     "data": {
      "text/plain": [
       "tensor(0.8890)"
      ]
     },
     "execution_count": 144,
     "metadata": {},
     "output_type": "execute_result"
    }
   ],
   "source": [
    "Accuracy(task='multiclass',num_classes=11)(ypred.cpu(),ytest.cpu())"
   ]
  },
  {
   "cell_type": "code",
   "execution_count": 145,
   "metadata": {},
   "outputs": [
    {
     "data": {
      "text/plain": [
       "tensor(0.3400, grad_fn=<NllLossBackward0>)"
      ]
     },
     "execution_count": 145,
     "metadata": {},
     "output_type": "execute_result"
    }
   ],
   "source": [
    "loss_func(ypred.cpu(),ytest.cpu())"
   ]
  },
  {
   "cell_type": "code",
   "execution_count": 146,
   "metadata": {},
   "outputs": [],
   "source": [
    "model=RandomForestClassifier(n_estimators=200,criterion='entropy',random_state=42)"
   ]
  },
  {
   "cell_type": "code",
   "execution_count": 147,
   "metadata": {},
   "outputs": [
    {
     "data": {
      "text/plain": [
       "RandomForestClassifier(criterion='entropy', n_estimators=200, random_state=42)"
      ]
     },
     "execution_count": 147,
     "metadata": {},
     "output_type": "execute_result"
    }
   ],
   "source": [
    "model.fit(xtrain,ytrain)"
   ]
  },
  {
   "cell_type": "code",
   "execution_count": 148,
   "metadata": {},
   "outputs": [
    {
     "data": {
      "text/plain": [
       "0.9274594236502153"
      ]
     },
     "execution_count": 148,
     "metadata": {},
     "output_type": "execute_result"
    }
   ],
   "source": [
    "model.score(xtest,ytest)"
   ]
  },
  {
   "cell_type": "code",
   "execution_count": 149,
   "metadata": {},
   "outputs": [
    {
     "data": {
      "text/plain": [
       "0.9260455486542443"
      ]
     },
     "execution_count": 149,
     "metadata": {},
     "output_type": "execute_result"
    }
   ],
   "source": [
    "model.score(xvalid,yvalid)"
   ]
  },
  {
   "cell_type": "code",
   "execution_count": 150,
   "metadata": {},
   "outputs": [
    {
     "data": {
      "text/plain": [
       "0.9937292948414577"
      ]
     },
     "execution_count": 150,
     "metadata": {},
     "output_type": "execute_result"
    }
   ],
   "source": [
    "model.score(xtrain,ytrain)"
   ]
  }
 ],
 "metadata": {
  "kernelspec": {
   "display_name": "base",
   "language": "python",
   "name": "python3"
  },
  "language_info": {
   "codemirror_mode": {
    "name": "ipython",
    "version": 3
   },
   "file_extension": ".py",
   "mimetype": "text/x-python",
   "name": "python",
   "nbconvert_exporter": "python",
   "pygments_lexer": "ipython3",
   "version": "3.9.12 (main, Apr  5 2022, 06:56:58) \n[GCC 7.5.0]"
  },
  "orig_nbformat": 4,
  "vscode": {
   "interpreter": {
    "hash": "d478f2b155118de22769e18c606f2fc6fbef083591a0239b8d3da966eb9f00a4"
   }
  }
 },
 "nbformat": 4,
 "nbformat_minor": 2
}
